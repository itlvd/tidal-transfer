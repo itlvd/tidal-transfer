{
  "cells": [
    {
      "cell_type": "code",
      "execution_count": null,
      "metadata": {
        "id": "9d2Y4qpwoOVi"
      },
      "outputs": [],
      "source": [
        "!pip install tidalapi@git+https://github.com/tamland/python-tidal.git@0.7.x\n",
        "import tidalapi"
      ]
    },
    {
      "cell_type": "markdown",
      "metadata": {
        "id": "0HS4hTQlo4J4"
      },
      "source": [
        "# Setup the variable"
      ]
    },
    {
      "cell_type": "markdown",
      "metadata": {
        "id": "x25xP-HWo9GY"
      },
      "source": [
        "**copy_id = None**: You want to copy all playlist from account1 to account2\n",
        "\n",
        "**copy_id = 'id_playlist'**: You want to copy special playlist."
      ]
    },
    {
      "cell_type": "code",
      "execution_count": null,
      "metadata": {
        "id": "mGcVxVgdorl6"
      },
      "outputs": [],
      "source": [
        "copy_id = None"
      ]
    },
    {
      "cell_type": "markdown",
      "metadata": {
        "id": "Gi58nvqFpW5Z"
      },
      "source": [
        "## Login to source account."
      ]
    },
    {
      "cell_type": "code",
      "execution_count": null,
      "metadata": {
        "id": "RqijlWxRpgLp"
      },
      "outputs": [],
      "source": [
        "session1 = tidalapi.Session()\n",
        "print('[FROM] Open this link in your browser:')\n",
        "session1.login_oauth_simple()\n",
        "usr1 = session1.user"
      ]
    },
    {
      "cell_type": "markdown",
      "metadata": {
        "id": "BFg042DwpiKp"
      },
      "source": [
        "## Login to destination account."
      ]
    },
    {
      "cell_type": "code",
      "execution_count": null,
      "metadata": {
        "id": "pIvc_zlLpnKb"
      },
      "outputs": [],
      "source": [
        "session2 = tidalapi.Session()\n",
        "print('[TO] Open this link in your browser:' )\n",
        "session2.login_oauth_simple()\n",
        "usr2 = session2.user"
      ]
    },
    {
      "cell_type": "markdown",
      "metadata": {
        "id": "KTl8vDyJppF5"
      },
      "source": [
        "# Copy playlist "
      ]
    },
    {
      "cell_type": "code",
      "execution_count": null,
      "metadata": {
        "id": "oOfteLzRp3uh"
      },
      "outputs": [],
      "source": [
        "# get list tracks in the playlist\n",
        "def getTracksInPlaylist(session,playlist_id):\n",
        "    playlist = session.playlist(playlist_id)\n",
        "    tracks = playlist.tracks()\n",
        "    listTrack = []\n",
        "    for track in tracks:\n",
        "        print(\"Copy music:\", track.name)\n",
        "        listTrack.append(str(track.id))\n",
        "    return listTrack\n",
        "\n",
        "if(copy_id == None or copy_id == \"\"):\n",
        "    playlists = usr1.playlists()\n",
        "    for playlist in playlists:\n",
        "        playlist2 = usr2.create_playlist(\"Copy of \" + playlist.name, \"Create by levandong.com\")\n",
        "        print(\"Copy playlist\", playlist.name)\n",
        "        playlist2.add(getTracksInPlaylist(session1,playlist.id))\n",
        "else:\n",
        "    playlist_copy = session1.playlist(copy_id)\n",
        "    playlist2 = usr2.create_playlist(\"Copy of \" + playlist_copy.name, \"Create by levandong.com\")\n",
        "    print(\"Copy playlist\", playlist_copy.name)\n",
        "    playlist2.add(getTracksInPlaylist(session1,playlist_copy.id))"
      ]
    }
  ],
  "metadata": {
    "colab": {
      "name": "Transfer_playlist_tidal.ipynb",
      "provenance": []
    },
    "kernelspec": {
      "display_name": "Python 3.10.5 64-bit",
      "language": "python",
      "name": "python3"
    },
    "language_info": {
      "name": "python",
      "version": "3.10.5"
    },
    "vscode": {
      "interpreter": {
        "hash": "63a909a78008bef006e408b9ad54bd01a2a147884a81749a7aeed452d9ee3f00"
      }
    }
  },
  "nbformat": 4,
  "nbformat_minor": 0
}
