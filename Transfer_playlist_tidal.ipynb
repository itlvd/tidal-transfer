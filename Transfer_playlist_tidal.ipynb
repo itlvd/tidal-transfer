{
  "nbformat": 4,
  "nbformat_minor": 0,
  "metadata": {
    "colab": {
      "name": "Transfer_playlist_tidal.ipynb",
      "provenance": []
    },
    "kernelspec": {
      "name": "python3",
      "display_name": "Python 3"
    },
    "language_info": {
      "name": "python"
    }
  },
  "cells": [
    {
      "cell_type": "code",
      "execution_count": null,
      "metadata": {
        "id": "9d2Y4qpwoOVi"
      },
      "outputs": [],
      "source": [
        "!pip install tidalapi@git+https://github.com/tamland/python-tidal.git@0.7.x\n",
        "import tidalapi"
      ]
    },
    {
      "cell_type": "markdown",
      "source": [
        "# Setup the variable"
      ],
      "metadata": {
        "id": "0HS4hTQlo4J4"
      }
    },
    {
      "cell_type": "markdown",
      "source": [
        "**copy_id = None**: You want to copy all playlist from account1 to account2\n",
        "\n",
        "**copy_id = 'id_playlist'**: You want to copy special playlist."
      ],
      "metadata": {
        "id": "x25xP-HWo9GY"
      }
    },
    {
      "cell_type": "code",
      "source": [
        "copy_id = None"
      ],
      "metadata": {
        "id": "mGcVxVgdorl6"
      },
      "execution_count": null,
      "outputs": []
    },
    {
      "cell_type": "markdown",
      "source": [
        "## Login to source account."
      ],
      "metadata": {
        "id": "Gi58nvqFpW5Z"
      }
    },
    {
      "cell_type": "code",
      "source": [
        "session1 = tidalapi.Session()\n",
        "print('[FROM] Open this link in your browser:')\n",
        "session1.login_oauth_simple()\n",
        "usr1 = session1.user"
      ],
      "metadata": {
        "id": "RqijlWxRpgLp"
      },
      "execution_count": null,
      "outputs": []
    },
    {
      "cell_type": "markdown",
      "source": [
        "## Login to destination account."
      ],
      "metadata": {
        "id": "BFg042DwpiKp"
      }
    },
    {
      "cell_type": "code",
      "source": [
        "session2 = tidalapi.Session()\n",
        "print('[TO] Open this link in your browser:' )\n",
        "session2.login_oauth_simple()\n",
        "usr2 = session2.user"
      ],
      "metadata": {
        "id": "pIvc_zlLpnKb"
      },
      "execution_count": null,
      "outputs": []
    },
    {
      "cell_type": "markdown",
      "source": [
        "# Copy playlist "
      ],
      "metadata": {
        "id": "KTl8vDyJppF5"
      }
    },
    {
      "cell_type": "code",
      "source": [
        "# get list tracks in the playlist\n",
        "def getTracksInPlaylist(session,playlist_id):\n",
        "    playlist = session.playlist(playlist_id)\n",
        "    tracks = playlist.tracks()\n",
        "    listTrack = []\n",
        "    for track in tracks:\n",
        "        listTrack.append(str(track.id))\n",
        "    return listTrack\n",
        "\n",
        "if(copy_id == None):\n",
        "    playlists = usr1.playlists()\n",
        "    for playlist in playlists:\n",
        "        playlist2 = usr2.create_playlist(\"Copy of \" + playlist.name, \"Create by levandong.com\")\n",
        "        playlist2.add(getTracksInPlaylist(session1,playlist.id))\n",
        "else:\n",
        "    playlist_copy = session1.playlists(copy_id)\n",
        "    playlist2 = usr2.create_playlist(\"Copy of \" + playlist_copy.name, \"Create by levandong.com\")\n",
        "    playlist2.add(getTracksInPlaylist(session1,playlist_copy.id))\n"
      ],
      "metadata": {
        "id": "oOfteLzRp3uh"
      },
      "execution_count": null,
      "outputs": []
    }
  ]
}